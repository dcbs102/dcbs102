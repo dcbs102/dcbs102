{
  "nbformat": 4,
  "nbformat_minor": 0,
  "metadata": {
    "colab": {
      "name": "DANIEL BAQUERO.ipynb",
      "provenance": [],
      "collapsed_sections": [],
      "authorship_tag": "ABX9TyPaD3rJ9E55aNeg7oKKiK7u",
      "include_colab_link": true
    },
    "kernelspec": {
      "name": "python3",
      "display_name": "Python 3"
    },
    "language_info": {
      "name": "python"
    }
  },
  "cells": [
    {
      "cell_type": "markdown",
      "metadata": {
        "id": "view-in-github",
        "colab_type": "text"
      },
      "source": [
        "<a href=\"https://colab.research.google.com/github/dcbs102/dcbs102/blob/main/DANIEL_BAQUERO.ipynb\" target=\"_parent\"><img src=\"https://colab.research.google.com/assets/colab-badge.svg\" alt=\"Open In Colab\"/></a>"
      ]
    },
    {
      "cell_type": "markdown",
      "source": [
        "# INGENIERIA AMBIENTAL\n",
        "## ¿A que se dedica un ingeniero ambiental?\n",
        "\n",
        "Los ingenieros ambientales *lideran*, *planean*, *diseñan*, *implementan* y *operan proyectos* \n",
        "para la **mitigación** y **control** de la contaminación ambiental (**agua, suelo y atmósfera**) \n",
        "causada por las actividades humanas. Trabajan en *conservar* \n",
        "y *restaurar* los recursos naturales y la biodiversidad, y en prevención, \n",
        "control y mitigación de impactos.\n",
        "\n",
        "##¿Cuáles son los campos de acción de un ingeniero ambiental?\n",
        "\n",
        "Los ingenieros ambientales tienen la posibilidad de elegir un énfasis que les permitirá fortalecer sus conocimientos y habilidades en una de las líneas de desempeño de la Ingeniería Ambiental. Estas líneas son:\n",
        "\n",
        "1.   Caracterización, modelación, análisis y control de la contaminación atmosférica.\n",
        "2.   Salud pública, ocupacional y ambiental.\n",
        "3.   Caracterización, modelación, análisis y sostenibilidad de hidrosistemas y ecosistemas.\n",
        "4.   Hidrología, meteorología y variabilidad climática.\n",
        "5.   Gestión y manejo sostenible de residuos sólidos, peligrosos y sitios contaminados.\n",
        "6.   Manejo sostenible de sistemas de abastecimiento y aguas residuales y pluviales.\n",
        "Química, biotecnología y nanotecnología ambiental.\n",
        "\n",
        "## ¿Por qué los especialistas ambientales deberían programar?\n",
        "Los especialistas ambientales deben comprender y utilizar lenguajes de programación para sus evaluaciones y simulaciones, de esta manera ellos tendrán un rol más protagónico en la discusión sobre la preservación del medio ambiente.\n",
        "\n",
        "#Lenguajes de programacion utilizados en ingenieria ambiental\n",
        "## Python\n",
        "\n",
        "Es el software predilecto para el análisis científico y por ende para la evaluación de los recursos hídricos y el medio ambiente. Tiene una serie de paquetes para distintas herramientas como SIG, análisis matemático, e inteligencia artificial\n",
        "\n",
        "#Ejemplo de codigo en Python\n",
        "\n",
        "\n",
        "\n",
        "\n",
        "\n",
        "\n",
        "\n"
      ],
      "metadata": {
        "id": "RGG7CxrMcIkh"
      }
    },
    {
      "cell_type": "code",
      "source": [
        "### Introducir un numero por teclado y decir si es par o impar\n",
        "num = int(input('Introduzca un numero: '))\n",
        "if num % 2 == 0:\n",
        "  print(\"Par\")\n",
        "else:\n",
        "  print(\"Impar\")"
      ],
      "metadata": {
        "colab": {
          "base_uri": "https://localhost:8080/"
        },
        "id": "A5OP1f9eetWk",
        "outputId": "dd3e4502-d40c-4b3f-cc70-0d47d10fdabd"
      },
      "execution_count": 13,
      "outputs": [
        {
          "output_type": "stream",
          "name": "stdout",
          "text": [
            "Introduzca un numero: 8\n",
            "Par\n"
          ]
        }
      ]
    },
    {
      "cell_type": "markdown",
      "source": [
        "En este ejemplo de codigo el programa le recibe un número al usuario y luego  le dice si es par o impar.\n",
        "\n",
        "Revisemos este otro codigo donde el bucle de tipo for si tiene ciertas particularidades. El siguiente ejemplo, muestra como imprimir en pantalla los 20 primeros números"
      ],
      "metadata": {
        "id": "mdUseWB8gkh6"
      }
    },
    {
      "cell_type": "code",
      "source": [
        "###Ejemplo for, imprime los 20 primeros numeros en una linea\n",
        "for i in range(20):\n",
        " print(i, end=\" \") #imprimir numero, sin salto linea\n",
        " print() #lineavacia"
      ],
      "metadata": {
        "colab": {
          "base_uri": "https://localhost:8080/"
        },
        "id": "0uATmPvrhH6r",
        "outputId": "75817f43-3231-4e4e-dab0-9ff3ee7d2bd9"
      },
      "execution_count": 15,
      "outputs": [
        {
          "output_type": "stream",
          "name": "stdout",
          "text": [
            "0 \n",
            "1 \n",
            "2 \n",
            "3 \n",
            "4 \n",
            "5 \n",
            "6 \n",
            "7 \n",
            "8 \n",
            "9 \n",
            "10 \n",
            "11 \n",
            "12 \n",
            "13 \n",
            "14 \n",
            "15 \n",
            "16 \n",
            "17 \n",
            "18 \n",
            "19 \n"
          ]
        }
      ]
    },
    {
      "cell_type": "markdown",
      "source": [
        "###Funciones en Python\n",
        "\n",
        "El uso de funciones es un componente muy importante del paradigma de la programación llamada estructurada, y tiene varias ventajas:\n",
        "\n",
        "Ventajas:\n",
        "```markdown\n",
        "Modularización        | Reutilización\n",
        "-------------------   |------------------\n",
        "permite segmentar un  | permite reutilizar \n",
        "                      | una misma función en distintos programas.\n",
        "programa complejo en  |\n",
        "una serie de partes o |\n",
        "módulos más simples,  |\n",
        "facilitando así la    |\n",
        "programación y        |\n",
        "el depurado.          |\n",
        "\n",
        "\n",
        "```\n",
        "\n",
        " \n",
        "\n",
        ": \n",
        ": \n",
        "\n",
        "Por último para definir una función en Python usamos la palabra reservada Def. Las funciones son bloques de código que se pueden reutilizar simplemente llamando a la función. Esto permite la reutilización de código simple y elegante sin volver a escribir explícitamente secciones de código. Esto hace que el código sea más legible, facilita la depuración y limita los errores de escritura.\n",
        "\n"
      ],
      "metadata": {
        "id": "209Ar1p8iiSI"
      }
    },
    {
      "cell_type": "code",
      "source": [
        "# función con un parámetro\n",
        "def holaConNombre(name):\n",
        "  print(\"Hello \" + name + \"!\")\n",
        "\n",
        "holaConNombre(\"Daniel\")  # llamada a la función, 'Hello Daniel!' se muestra en la consola\n"
      ],
      "metadata": {
        "colab": {
          "base_uri": "https://localhost:8080/"
        },
        "id": "8n9BO8d2kTBd",
        "outputId": "c2053d66-9048-4573-bc0f-84502ba680f5"
      },
      "execution_count": 18,
      "outputs": [
        {
          "output_type": "stream",
          "name": "stdout",
          "text": [
            "Hello Daniel!\n"
          ]
        }
      ]
    }
  ]
}